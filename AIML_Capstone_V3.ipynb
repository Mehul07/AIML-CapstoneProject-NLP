{
  "nbformat": 4,
  "nbformat_minor": 0,
  "metadata": {
    "colab": {
      "name": "AIML_Capstone_V3.ipynb",
      "provenance": [],
      "collapsed_sections": []
    },
    "kernelspec": {
      "name": "python3",
      "display_name": "Python 3"
    },
    "accelerator": "GPU"
  },
  "cells": [
    {
      "cell_type": "markdown",
      "metadata": {
        "id": "_x7ouaBI7X6k",
        "colab_type": "text"
      },
      "source": [
        "# Capstone Project\n",
        "## Automatic Ticket Assignement\n",
        "To build a classifier that can classify the tickets by analysing text.\n",
        "### Dataset\n",
        "Input Data Synthetic"
      ]
    },
    {
      "cell_type": "code",
      "metadata": {
        "id": "hSkO86FawgP1",
        "colab_type": "code",
        "outputId": "c2c4d436-b7d0-496d-d520-ec45df2cc7f4",
        "colab": {
          "base_uri": "https://localhost:8080/",
          "height": 35
        }
      },
      "source": [
        "# Mount google drive\n",
        "\n",
        "from google.colab import drive\n",
        "drive.mount('/mnt/drive/')"
      ],
      "execution_count": 1,
      "outputs": [
        {
          "output_type": "stream",
          "text": [
            "Drive already mounted at /mnt/drive/; to attempt to forcibly remount, call drive.mount(\"/mnt/drive/\", force_remount=True).\n"
          ],
          "name": "stdout"
        }
      ]
    },
    {
      "cell_type": "code",
      "metadata": {
        "id": "hEM5lrIj6OsZ",
        "colab_type": "code",
        "outputId": "350c6a11-6a5e-422b-a3e8-fa3749f8879e",
        "colab": {
          "base_uri": "https://localhost:8080/",
          "height": 72
        }
      },
      "source": [
        "import pandas as pd\n",
        "import numpy as np\n",
        "import seaborn as sns\n",
        "import matplotlib.pyplot as plt"
      ],
      "execution_count": 2,
      "outputs": [
        {
          "output_type": "stream",
          "text": [
            "/usr/local/lib/python3.6/dist-packages/statsmodels/tools/_testing.py:19: FutureWarning: pandas.util.testing is deprecated. Use the functions in the public API at pandas.testing instead.\n",
            "  import pandas.util.testing as tm\n"
          ],
          "name": "stderr"
        }
      ]
    },
    {
      "cell_type": "markdown",
      "metadata": {
        "id": "kyQ-en9d7fDu",
        "colab_type": "text"
      },
      "source": [
        "### Read Dataset"
      ]
    },
    {
      "cell_type": "code",
      "metadata": {
        "id": "IrGFCBUQ5sig",
        "colab_type": "code",
        "colab": {}
      },
      "source": [
        "df = pd.read_excel(\"/mnt/drive/My Drive/Colab Notebooks/Input Data Synthetic.xlsx\")"
      ],
      "execution_count": 0,
      "outputs": []
    },
    {
      "cell_type": "markdown",
      "metadata": {
        "id": "wooNA6ND72Yn",
        "colab_type": "text"
      },
      "source": [
        "### EDA & Preprocessing"
      ]
    },
    {
      "cell_type": "code",
      "metadata": {
        "id": "gErlE7Wt6LjJ",
        "colab_type": "code",
        "colab": {}
      },
      "source": [
        "# Drop irrelevant columns\n",
        "\n",
        "df = df.drop(['Caller'], axis=1)"
      ],
      "execution_count": 0,
      "outputs": []
    },
    {
      "cell_type": "code",
      "metadata": {
        "id": "zEpG8KoPbC4O",
        "colab_type": "code",
        "outputId": "43855775-42c8-4855-d9bb-e0c1afafd73c",
        "colab": {
          "base_uri": "https://localhost:8080/",
          "height": 225
        }
      },
      "source": [
        "df['Assignment group'].value_counts(ascending=True)"
      ],
      "execution_count": 5,
      "outputs": [
        {
          "output_type": "execute_result",
          "data": {
            "text/plain": [
              "GRP_70       1\n",
              "GRP_67       1\n",
              "GRP_73       1\n",
              "GRP_61       1\n",
              "GRP_35       1\n",
              "          ... \n",
              "GRP_9      252\n",
              "GRP_12     257\n",
              "GRP_24     289\n",
              "GRP_8      661\n",
              "GRP_0     3976\n",
              "Name: Assignment group, Length: 74, dtype: int64"
            ]
          },
          "metadata": {
            "tags": []
          },
          "execution_count": 5
        }
      ]
    },
    {
      "cell_type": "code",
      "metadata": {
        "id": "IsZZz49ibIkq",
        "colab_type": "code",
        "outputId": "ee7740c9-9caa-4ab9-f45b-425b94f01189",
        "colab": {
          "base_uri": "https://localhost:8080/",
          "height": 1000
        }
      },
      "source": [
        "plt.figure(figsize=(20,20))\n",
        "sns.countplot(y=df['Assignment group'])"
      ],
      "execution_count": 6,
      "outputs": [
        {
          "output_type": "execute_result",
          "data": {
            "text/plain": [
              "<matplotlib.axes._subplots.AxesSubplot at 0x7f63f3e36390>"
            ]
          },
          "metadata": {
            "tags": []
          },
          "execution_count": 6
        },
        {
          "output_type": "display_data",
          "data": {
            "image/png": "[encoded data removed]",
            "text/plain": [
              "<Figure size 1440x1440 with 1 Axes>"
            ]
          },
          "metadata": {
            "tags": [],
            "needs_background": "light"
          }
        }
      ]
    },
    {
      "cell_type": "code",
      "metadata": {
        "id": "pliqJ-CzbNAg",
        "colab_type": "code",
        "colab": {}
      },
      "source": [
        "# Downsample majority class\n",
        "\n",
        "\n",
        "from sklearn.utils import resample\n",
        "\n",
        "df_majority = df.loc[df['Assignment group'] == 'GRP_0']\n",
        "df_minority = df.loc[df['Assignment group'] != 'GRP_0']\n",
        "df_majority_downsampled = resample(df_majority, \n",
        "                        replace=False,     # sample with replacement\n",
        "                        n_samples=600,    # to match majority class\n",
        "                        random_state=123) # reproducible results"
      ],
      "execution_count": 0,
      "outputs": []
    },
    {
      "cell_type": "code",
      "metadata": {
        "id": "EV3b_PembRI2",
        "colab_type": "code",
        "colab": {}
      },
      "source": [
        "df = pd.concat([df_majority_downsampled, df_minority])"
      ],
      "execution_count": 0,
      "outputs": []
    },
    {
      "cell_type": "code",
      "metadata": {
        "id": "dH6eR2p0bTr3",
        "colab_type": "code",
        "colab": {}
      },
      "source": [
        "# Upsample minority\n",
        "\n",
        "max_size = df['Assignment group'].value_counts().max()\n",
        "\n",
        "lst = [df]\n",
        "for class_index, group in df.groupby('Assignment group'):\n",
        "    lst.append(group.sample(max_size-len(group), replace=True))\n",
        "df = pd.concat(lst)"
      ],
      "execution_count": 0,
      "outputs": []
    },
    {
      "cell_type": "code",
      "metadata": {
        "id": "yvdLKFzabWV7",
        "colab_type": "code",
        "outputId": "52d1b814-8e82-40df-b30c-68972b1cd1c2",
        "colab": {
          "base_uri": "https://localhost:8080/",
          "height": 1000
        }
      },
      "source": [
        "plt.figure(figsize=(20,20))\n",
        "sns.countplot(y=df['Assignment group'])"
      ],
      "execution_count": 10,
      "outputs": [
        {
          "output_type": "execute_result",
          "data": {
            "text/plain": [
              "<matplotlib.axes._subplots.AxesSubplot at 0x7f63f37a84a8>"
            ]
          },
          "metadata": {
            "tags": []
          },
          "execution_count": 10
        },
        {
          "output_type": "display_data",
          "data": {
            "image/png": "[encoded data removed]",
            "text/plain": [
              "<Figure size 1440x1440 with 1 Axes>"
            ]
          },
          "metadata": {
            "tags": [],
            "needs_background": "light"
          }
        }
      ]
    },
    {
      "cell_type": "code",
      "metadata": {
        "id": "pGbytmdtbcsl",
        "colab_type": "code",
        "outputId": "e23f1894-a28e-4130-f29f-7b677ab63f82",
        "colab": {
          "base_uri": "https://localhost:8080/",
          "height": 509
        }
      },
      "source": [
        "# Find null values in the dataset\n",
        "\n",
        "df[df.isna().any(axis=1)]"
      ],
      "execution_count": 11,
      "outputs": [
        {
          "output_type": "execute_result",
          "data": {
            "text/html": [
              "<div>\n",
              "<style scoped>\n",
              "    .dataframe tbody tr th:only-of-type {\n",
              "        vertical-align: middle;\n",
              "    }\n",
              "\n",
              "    .dataframe tbody tr th {\n",
              "        vertical-align: top;\n",
              "    }\n",
              "\n",
              "    .dataframe thead th {\n",
              "        text-align: right;\n",
              "    }\n",
              "</style>\n",
              "<table border=\"1\" class=\"dataframe\">\n",
              "  <thead>\n",
              "    <tr style=\"text-align: right;\">\n",
              "      <th></th>\n",
              "      <th>Short description</th>\n",
              "      <th>Description</th>\n",
              "      <th>Assignment group</th>\n",
              "    </tr>\n",
              "  </thead>\n",
              "  <tbody>\n",
              "    <tr>\n",
              "      <th>3921</th>\n",
              "      <td>NaN</td>\n",
              "      <td>-user unable  tologin to vpn.\\r\\n-connected to...</td>\n",
              "      <td>GRP_0</td>\n",
              "    </tr>\n",
              "    <tr>\n",
              "      <th>2604</th>\n",
              "      <td>NaN</td>\n",
              "      <td>\\r\\n\\r\\nreceived from: ohdrnswl.rezuibdt@gmail...</td>\n",
              "      <td>GRP_34</td>\n",
              "    </tr>\n",
              "    <tr>\n",
              "      <th>3921</th>\n",
              "      <td>NaN</td>\n",
              "      <td>-user unable  tologin to vpn.\\r\\n-connected to...</td>\n",
              "      <td>GRP_0</td>\n",
              "    </tr>\n",
              "    <tr>\n",
              "      <th>2604</th>\n",
              "      <td>NaN</td>\n",
              "      <td>\\r\\n\\r\\nreceived from: ohdrnswl.rezuibdt@gmail...</td>\n",
              "      <td>GRP_34</td>\n",
              "    </tr>\n",
              "    <tr>\n",
              "      <th>2604</th>\n",
              "      <td>NaN</td>\n",
              "      <td>\\r\\n\\r\\nreceived from: ohdrnswl.rezuibdt@gmail...</td>\n",
              "      <td>GRP_34</td>\n",
              "    </tr>\n",
              "    <tr>\n",
              "      <th>2604</th>\n",
              "      <td>NaN</td>\n",
              "      <td>\\r\\n\\r\\nreceived from: ohdrnswl.rezuibdt@gmail...</td>\n",
              "      <td>GRP_34</td>\n",
              "    </tr>\n",
              "    <tr>\n",
              "      <th>2604</th>\n",
              "      <td>NaN</td>\n",
              "      <td>\\r\\n\\r\\nreceived from: ohdrnswl.rezuibdt@gmail...</td>\n",
              "      <td>GRP_34</td>\n",
              "    </tr>\n",
              "    <tr>\n",
              "      <th>2604</th>\n",
              "      <td>NaN</td>\n",
              "      <td>\\r\\n\\r\\nreceived from: ohdrnswl.rezuibdt@gmail...</td>\n",
              "      <td>GRP_34</td>\n",
              "    </tr>\n",
              "    <tr>\n",
              "      <th>2604</th>\n",
              "      <td>NaN</td>\n",
              "      <td>\\r\\n\\r\\nreceived from: ohdrnswl.rezuibdt@gmail...</td>\n",
              "      <td>GRP_34</td>\n",
              "    </tr>\n",
              "    <tr>\n",
              "      <th>2604</th>\n",
              "      <td>NaN</td>\n",
              "      <td>\\r\\n\\r\\nreceived from: ohdrnswl.rezuibdt@gmail...</td>\n",
              "      <td>GRP_34</td>\n",
              "    </tr>\n",
              "    <tr>\n",
              "      <th>2604</th>\n",
              "      <td>NaN</td>\n",
              "      <td>\\r\\n\\r\\nreceived from: ohdrnswl.rezuibdt@gmail...</td>\n",
              "      <td>GRP_34</td>\n",
              "    </tr>\n",
              "    <tr>\n",
              "      <th>2604</th>\n",
              "      <td>NaN</td>\n",
              "      <td>\\r\\n\\r\\nreceived from: ohdrnswl.rezuibdt@gmail...</td>\n",
              "      <td>GRP_34</td>\n",
              "    </tr>\n",
              "    <tr>\n",
              "      <th>2604</th>\n",
              "      <td>NaN</td>\n",
              "      <td>\\r\\n\\r\\nreceived from: ohdrnswl.rezuibdt@gmail...</td>\n",
              "      <td>GRP_34</td>\n",
              "    </tr>\n",
              "    <tr>\n",
              "      <th>2604</th>\n",
              "      <td>NaN</td>\n",
              "      <td>\\r\\n\\r\\nreceived from: ohdrnswl.rezuibdt@gmail...</td>\n",
              "      <td>GRP_34</td>\n",
              "    </tr>\n",
              "    <tr>\n",
              "      <th>2604</th>\n",
              "      <td>NaN</td>\n",
              "      <td>\\r\\n\\r\\nreceived from: ohdrnswl.rezuibdt@gmail...</td>\n",
              "      <td>GRP_34</td>\n",
              "    </tr>\n",
              "  </tbody>\n",
              "</table>\n",
              "</div>"
            ],
            "text/plain": [
              "     Short description  ... Assignment group\n",
              "3921               NaN  ...            GRP_0\n",
              "2604               NaN  ...           GRP_34\n",
              "3921               NaN  ...            GRP_0\n",
              "2604               NaN  ...           GRP_34\n",
              "2604               NaN  ...           GRP_34\n",
              "2604               NaN  ...           GRP_34\n",
              "2604               NaN  ...           GRP_34\n",
              "2604               NaN  ...           GRP_34\n",
              "2604               NaN  ...           GRP_34\n",
              "2604               NaN  ...           GRP_34\n",
              "2604               NaN  ...           GRP_34\n",
              "2604               NaN  ...           GRP_34\n",
              "2604               NaN  ...           GRP_34\n",
              "2604               NaN  ...           GRP_34\n",
              "2604               NaN  ...           GRP_34\n",
              "\n",
              "[15 rows x 3 columns]"
            ]
          },
          "metadata": {
            "tags": []
          },
          "execution_count": 11
        }
      ]
    },
    {
      "cell_type": "code",
      "metadata": {
        "id": "Ypcmn9O66jly",
        "colab_type": "code",
        "colab": {}
      },
      "source": [
        "# Replace Null values with any stopword\n",
        "\n",
        "df['Short description'].fillna('the', inplace=True)"
      ],
      "execution_count": 0,
      "outputs": []
    },
    {
      "cell_type": "code",
      "metadata": {
        "id": "sbPGrMfGbhYM",
        "colab_type": "code",
        "colab": {}
      },
      "source": [
        "# Change to lowercase\n",
        "df['Short description'] = df['Short description'].map(lambda x: x.lower())\n",
        "df['Description'] = df['Description'].map(lambda x: x.lower())"
      ],
      "execution_count": 0,
      "outputs": []
    },
    {
      "cell_type": "code",
      "metadata": {
        "id": "UgA1hMX76mHU",
        "colab_type": "code",
        "colab": {}
      },
      "source": [
        "## Convert categories into unique codes\n",
        "\n",
        "df['Category'] = df['Assignment group'].astype('category').cat.codes"
      ],
      "execution_count": 0,
      "outputs": []
    },
    {
      "cell_type": "code",
      "metadata": {
        "id": "jEzlbw4B6nyq",
        "colab_type": "code",
        "colab": {}
      },
      "source": [
        "df = df.drop(['Assignment group'], axis=1)"
      ],
      "execution_count": 0,
      "outputs": []
    },
    {
      "cell_type": "code",
      "metadata": {
        "id": "O3afLKC56pXn",
        "colab_type": "code",
        "outputId": "7bb2c6b0-5dff-4c09-80fe-fa2a7dbb3d95",
        "colab": {
          "base_uri": "https://localhost:8080/",
          "height": 202
        }
      },
      "source": [
        "df.head()"
      ],
      "execution_count": 16,
      "outputs": [
        {
          "output_type": "execute_result",
          "data": {
            "text/html": [
              "<div>\n",
              "<style scoped>\n",
              "    .dataframe tbody tr th:only-of-type {\n",
              "        vertical-align: middle;\n",
              "    }\n",
              "\n",
              "    .dataframe tbody tr th {\n",
              "        vertical-align: top;\n",
              "    }\n",
              "\n",
              "    .dataframe thead th {\n",
              "        text-align: right;\n",
              "    }\n",
              "</style>\n",
              "<table border=\"1\" class=\"dataframe\">\n",
              "  <thead>\n",
              "    <tr style=\"text-align: right;\">\n",
              "      <th></th>\n",
              "      <th>Short description</th>\n",
              "      <th>Description</th>\n",
              "      <th>Category</th>\n",
              "    </tr>\n",
              "  </thead>\n",
              "  <tbody>\n",
              "    <tr>\n",
              "      <th>1822</th>\n",
              "      <td>erp sid_37 password reset</td>\n",
              "      <td>erp sid_37 password reset</td>\n",
              "      <td>0</td>\n",
              "    </tr>\n",
              "    <tr>\n",
              "      <th>3922</th>\n",
              "      <td>vpn login issue.</td>\n",
              "      <td>vpn login issue.\\r\\n-user unable  tologin to v...</td>\n",
              "      <td>0</td>\n",
              "    </tr>\n",
              "    <tr>\n",
              "      <th>4173</th>\n",
              "      <td>erp sid_34 account locked.</td>\n",
              "      <td>erp sid_34 account locked.</td>\n",
              "      <td>0</td>\n",
              "    </tr>\n",
              "    <tr>\n",
              "      <th>497</th>\n",
              "      <td>backup on company provided mobile phone</td>\n",
              "      <td>backup on company provided mobile phone</td>\n",
              "      <td>0</td>\n",
              "    </tr>\n",
              "    <tr>\n",
              "      <th>4734</th>\n",
              "      <td>reset the password for mobaidfx gviwlsrm on er...</td>\n",
              "      <td>passwort zurã¼cksetzen -</td>\n",
              "      <td>0</td>\n",
              "    </tr>\n",
              "  </tbody>\n",
              "</table>\n",
              "</div>"
            ],
            "text/plain": [
              "                                      Short description  ... Category\n",
              "1822                          erp sid_37 password reset  ...        0\n",
              "3922                                   vpn login issue.  ...        0\n",
              "4173                         erp sid_34 account locked.  ...        0\n",
              "497             backup on company provided mobile phone  ...        0\n",
              "4734  reset the password for mobaidfx gviwlsrm on er...  ...        0\n",
              "\n",
              "[5 rows x 3 columns]"
            ]
          },
          "metadata": {
            "tags": []
          },
          "execution_count": 16
        }
      ]
    },
    {
      "cell_type": "code",
      "metadata": {
        "id": "hH7zkGU46qjI",
        "colab_type": "code",
        "colab": {}
      },
      "source": [
        "# Remove email id from description\n",
        "\n",
        "import re\n",
        "df['Description'] = df['Description'].apply((lambda x: re.sub('received from:.\\S+@\\S+','',x)))"
      ],
      "execution_count": 0,
      "outputs": []
    },
    {
      "cell_type": "code",
      "metadata": {
        "id": "IWXnj50n6sFf",
        "colab_type": "code",
        "colab": {}
      },
      "source": [
        "# Remove words that are not relevant\n",
        "\n",
        "df['Description'] = df['Description'].apply((lambda x: re.sub('hi|hello|team|thanks|please','',x)))"
      ],
      "execution_count": 0,
      "outputs": []
    },
    {
      "cell_type": "code",
      "metadata": {
        "id": "hC07ZjYU7R5T",
        "colab_type": "code",
        "outputId": "16a3d4f9-d7c2-4043-89f3-41fe3e552707",
        "colab": {
          "base_uri": "https://localhost:8080/",
          "height": 202
        }
      },
      "source": [
        "df.head()"
      ],
      "execution_count": 19,
      "outputs": [
        {
          "output_type": "execute_result",
          "data": {
            "text/html": [
              "<div>\n",
              "<style scoped>\n",
              "    .dataframe tbody tr th:only-of-type {\n",
              "        vertical-align: middle;\n",
              "    }\n",
              "\n",
              "    .dataframe tbody tr th {\n",
              "        vertical-align: top;\n",
              "    }\n",
              "\n",
              "    .dataframe thead th {\n",
              "        text-align: right;\n",
              "    }\n",
              "</style>\n",
              "<table border=\"1\" class=\"dataframe\">\n",
              "  <thead>\n",
              "    <tr style=\"text-align: right;\">\n",
              "      <th></th>\n",
              "      <th>Short description</th>\n",
              "      <th>Description</th>\n",
              "      <th>Category</th>\n",
              "    </tr>\n",
              "  </thead>\n",
              "  <tbody>\n",
              "    <tr>\n",
              "      <th>1822</th>\n",
              "      <td>erp sid_37 password reset</td>\n",
              "      <td>erp sid_37 password reset</td>\n",
              "      <td>0</td>\n",
              "    </tr>\n",
              "    <tr>\n",
              "      <th>3922</th>\n",
              "      <td>vpn login issue.</td>\n",
              "      <td>vpn login issue.\\r\\n-user unable  tologin to v...</td>\n",
              "      <td>0</td>\n",
              "    </tr>\n",
              "    <tr>\n",
              "      <th>4173</th>\n",
              "      <td>erp sid_34 account locked.</td>\n",
              "      <td>erp sid_34 account locked.</td>\n",
              "      <td>0</td>\n",
              "    </tr>\n",
              "    <tr>\n",
              "      <th>497</th>\n",
              "      <td>backup on company provided mobile phone</td>\n",
              "      <td>backup on company provided mobile phone</td>\n",
              "      <td>0</td>\n",
              "    </tr>\n",
              "    <tr>\n",
              "      <th>4734</th>\n",
              "      <td>reset the password for mobaidfx gviwlsrm on er...</td>\n",
              "      <td>passwort zurã¼cksetzen -</td>\n",
              "      <td>0</td>\n",
              "    </tr>\n",
              "  </tbody>\n",
              "</table>\n",
              "</div>"
            ],
            "text/plain": [
              "                                      Short description  ... Category\n",
              "1822                          erp sid_37 password reset  ...        0\n",
              "3922                                   vpn login issue.  ...        0\n",
              "4173                         erp sid_34 account locked.  ...        0\n",
              "497             backup on company provided mobile phone  ...        0\n",
              "4734  reset the password for mobaidfx gviwlsrm on er...  ...        0\n",
              "\n",
              "[5 rows x 3 columns]"
            ]
          },
          "metadata": {
            "tags": []
          },
          "execution_count": 19
        }
      ]
    },
    {
      "cell_type": "code",
      "metadata": {
        "id": "jIzVmRpDbsUX",
        "colab_type": "code",
        "colab": {}
      },
      "source": [
        "# Remove numbers\n",
        "\n",
        "import re\n",
        "\n",
        "df['Short description'] = df['Short description'].map(lambda x: re.sub(r'\\d+', '', x))\n",
        "df['Description'] = df['Description'].map(lambda x: re.sub(r'\\d+', '', x))"
      ],
      "execution_count": 0,
      "outputs": []
    },
    {
      "cell_type": "code",
      "metadata": {
        "id": "xwdZrRWWbuJw",
        "colab_type": "code",
        "outputId": "0d3feec2-1dd1-4199-caa3-47235e878a9f",
        "colab": {
          "base_uri": "https://localhost:8080/",
          "height": 202
        }
      },
      "source": [
        "df.head()"
      ],
      "execution_count": 21,
      "outputs": [
        {
          "output_type": "execute_result",
          "data": {
            "text/html": [
              "<div>\n",
              "<style scoped>\n",
              "    .dataframe tbody tr th:only-of-type {\n",
              "        vertical-align: middle;\n",
              "    }\n",
              "\n",
              "    .dataframe tbody tr th {\n",
              "        vertical-align: top;\n",
              "    }\n",
              "\n",
              "    .dataframe thead th {\n",
              "        text-align: right;\n",
              "    }\n",
              "</style>\n",
              "<table border=\"1\" class=\"dataframe\">\n",
              "  <thead>\n",
              "    <tr style=\"text-align: right;\">\n",
              "      <th></th>\n",
              "      <th>Short description</th>\n",
              "      <th>Description</th>\n",
              "      <th>Category</th>\n",
              "    </tr>\n",
              "  </thead>\n",
              "  <tbody>\n",
              "    <tr>\n",
              "      <th>1822</th>\n",
              "      <td>erp sid_ password reset</td>\n",
              "      <td>erp sid_ password reset</td>\n",
              "      <td>0</td>\n",
              "    </tr>\n",
              "    <tr>\n",
              "      <th>3922</th>\n",
              "      <td>vpn login issue.</td>\n",
              "      <td>vpn login issue.\\r\\n-user unable  tologin to v...</td>\n",
              "      <td>0</td>\n",
              "    </tr>\n",
              "    <tr>\n",
              "      <th>4173</th>\n",
              "      <td>erp sid_ account locked.</td>\n",
              "      <td>erp sid_ account locked.</td>\n",
              "      <td>0</td>\n",
              "    </tr>\n",
              "    <tr>\n",
              "      <th>497</th>\n",
              "      <td>backup on company provided mobile phone</td>\n",
              "      <td>backup on company provided mobile phone</td>\n",
              "      <td>0</td>\n",
              "    </tr>\n",
              "    <tr>\n",
              "      <th>4734</th>\n",
              "      <td>reset the password for mobaidfx gviwlsrm on er...</td>\n",
              "      <td>passwort zurã¼cksetzen -</td>\n",
              "      <td>0</td>\n",
              "    </tr>\n",
              "  </tbody>\n",
              "</table>\n",
              "</div>"
            ],
            "text/plain": [
              "                                      Short description  ... Category\n",
              "1822                            erp sid_ password reset  ...        0\n",
              "3922                                   vpn login issue.  ...        0\n",
              "4173                           erp sid_ account locked.  ...        0\n",
              "497             backup on company provided mobile phone  ...        0\n",
              "4734  reset the password for mobaidfx gviwlsrm on er...  ...        0\n",
              "\n",
              "[5 rows x 3 columns]"
            ]
          },
          "metadata": {
            "tags": []
          },
          "execution_count": 21
        }
      ]
    },
    {
      "cell_type": "code",
      "metadata": {
        "id": "RR_s7VUhbv8q",
        "colab_type": "code",
        "colab": {}
      },
      "source": [
        "# Remove Punctuation\n",
        "\n",
        "import string\n",
        "\n",
        "df['Short description']  = df['Short description'].map(lambda x: x.translate(x.maketrans('', '', string.punctuation)))\n",
        "df['Description']  = df['Description'].map(lambda x: x.translate(x.maketrans('', '', string.punctuation)))"
      ],
      "execution_count": 0,
      "outputs": []
    },
    {
      "cell_type": "code",
      "metadata": {
        "id": "OPzdNhj1bySw",
        "colab_type": "code",
        "outputId": "76c68632-027d-40a4-ac3b-33e0b111d97f",
        "colab": {
          "base_uri": "https://localhost:8080/",
          "height": 202
        }
      },
      "source": [
        "df.head()"
      ],
      "execution_count": 23,
      "outputs": [
        {
          "output_type": "execute_result",
          "data": {
            "text/html": [
              "<div>\n",
              "<style scoped>\n",
              "    .dataframe tbody tr th:only-of-type {\n",
              "        vertical-align: middle;\n",
              "    }\n",
              "\n",
              "    .dataframe tbody tr th {\n",
              "        vertical-align: top;\n",
              "    }\n",
              "\n",
              "    .dataframe thead th {\n",
              "        text-align: right;\n",
              "    }\n",
              "</style>\n",
              "<table border=\"1\" class=\"dataframe\">\n",
              "  <thead>\n",
              "    <tr style=\"text-align: right;\">\n",
              "      <th></th>\n",
              "      <th>Short description</th>\n",
              "      <th>Description</th>\n",
              "      <th>Category</th>\n",
              "    </tr>\n",
              "  </thead>\n",
              "  <tbody>\n",
              "    <tr>\n",
              "      <th>1822</th>\n",
              "      <td>erp sid password reset</td>\n",
              "      <td>erp sid password reset</td>\n",
              "      <td>0</td>\n",
              "    </tr>\n",
              "    <tr>\n",
              "      <th>3922</th>\n",
              "      <td>vpn login issue</td>\n",
              "      <td>vpn login issue\\r\\nuser unable  tologin to vpn...</td>\n",
              "      <td>0</td>\n",
              "    </tr>\n",
              "    <tr>\n",
              "      <th>4173</th>\n",
              "      <td>erp sid account locked</td>\n",
              "      <td>erp sid account locked</td>\n",
              "      <td>0</td>\n",
              "    </tr>\n",
              "    <tr>\n",
              "      <th>497</th>\n",
              "      <td>backup on company provided mobile phone</td>\n",
              "      <td>backup on company provided mobile phone</td>\n",
              "      <td>0</td>\n",
              "    </tr>\n",
              "    <tr>\n",
              "      <th>4734</th>\n",
              "      <td>reset the password for mobaidfx gviwlsrm on er...</td>\n",
              "      <td>passwort zurã¼cksetzen</td>\n",
              "      <td>0</td>\n",
              "    </tr>\n",
              "  </tbody>\n",
              "</table>\n",
              "</div>"
            ],
            "text/plain": [
              "                                      Short description  ... Category\n",
              "1822                             erp sid password reset  ...        0\n",
              "3922                                    vpn login issue  ...        0\n",
              "4173                             erp sid account locked  ...        0\n",
              "497             backup on company provided mobile phone  ...        0\n",
              "4734  reset the password for mobaidfx gviwlsrm on er...  ...        0\n",
              "\n",
              "[5 rows x 3 columns]"
            ]
          },
          "metadata": {
            "tags": []
          },
          "execution_count": 23
        }
      ]
    },
    {
      "cell_type": "code",
      "metadata": {
        "id": "XoGzMRv_b0Ym",
        "colab_type": "code",
        "colab": {}
      },
      "source": [
        "# Remove white spaces\n",
        "\n",
        "df['Short description'] = df['Short description'].map(lambda x: x.strip())\n",
        "df['Description'] = df['Description'].map(lambda x: x.strip())"
      ],
      "execution_count": 0,
      "outputs": []
    },
    {
      "cell_type": "code",
      "metadata": {
        "id": "L9bPf8OTb2bE",
        "colab_type": "code",
        "outputId": "6ae18e28-ccda-453e-eb48-8c23504f5427",
        "colab": {
          "base_uri": "https://localhost:8080/",
          "height": 202
        }
      },
      "source": [
        "df.head()"
      ],
      "execution_count": 25,
      "outputs": [
        {
          "output_type": "execute_result",
          "data": {
            "text/html": [
              "<div>\n",
              "<style scoped>\n",
              "    .dataframe tbody tr th:only-of-type {\n",
              "        vertical-align: middle;\n",
              "    }\n",
              "\n",
              "    .dataframe tbody tr th {\n",
              "        vertical-align: top;\n",
              "    }\n",
              "\n",
              "    .dataframe thead th {\n",
              "        text-align: right;\n",
              "    }\n",
              "</style>\n",
              "<table border=\"1\" class=\"dataframe\">\n",
              "  <thead>\n",
              "    <tr style=\"text-align: right;\">\n",
              "      <th></th>\n",
              "      <th>Short description</th>\n",
              "      <th>Description</th>\n",
              "      <th>Category</th>\n",
              "    </tr>\n",
              "  </thead>\n",
              "  <tbody>\n",
              "    <tr>\n",
              "      <th>1822</th>\n",
              "      <td>erp sid password reset</td>\n",
              "      <td>erp sid password reset</td>\n",
              "      <td>0</td>\n",
              "    </tr>\n",
              "    <tr>\n",
              "      <th>3922</th>\n",
              "      <td>vpn login issue</td>\n",
              "      <td>vpn login issue\\r\\nuser unable  tologin to vpn...</td>\n",
              "      <td>0</td>\n",
              "    </tr>\n",
              "    <tr>\n",
              "      <th>4173</th>\n",
              "      <td>erp sid account locked</td>\n",
              "      <td>erp sid account locked</td>\n",
              "      <td>0</td>\n",
              "    </tr>\n",
              "    <tr>\n",
              "      <th>497</th>\n",
              "      <td>backup on company provided mobile phone</td>\n",
              "      <td>backup on company provided mobile phone</td>\n",
              "      <td>0</td>\n",
              "    </tr>\n",
              "    <tr>\n",
              "      <th>4734</th>\n",
              "      <td>reset the password for mobaidfx gviwlsrm on er...</td>\n",
              "      <td>passwort zurã¼cksetzen</td>\n",
              "      <td>0</td>\n",
              "    </tr>\n",
              "  </tbody>\n",
              "</table>\n",
              "</div>"
            ],
            "text/plain": [
              "                                      Short description  ... Category\n",
              "1822                             erp sid password reset  ...        0\n",
              "3922                                    vpn login issue  ...        0\n",
              "4173                             erp sid account locked  ...        0\n",
              "497             backup on company provided mobile phone  ...        0\n",
              "4734  reset the password for mobaidfx gviwlsrm on er...  ...        0\n",
              "\n",
              "[5 rows x 3 columns]"
            ]
          },
          "metadata": {
            "tags": []
          },
          "execution_count": 25
        }
      ]
    },
    {
      "cell_type": "code",
      "metadata": {
        "id": "iMnOfDdZb33s",
        "colab_type": "code",
        "colab": {}
      },
      "source": [
        "df['Description'] = df['Description'].astype(str)"
      ],
      "execution_count": 0,
      "outputs": []
    },
    {
      "cell_type": "code",
      "metadata": {
        "id": "cMBkpSObb5U6",
        "colab_type": "code",
        "colab": {}
      },
      "source": [
        "df_description = df.Description.values"
      ],
      "execution_count": 0,
      "outputs": []
    },
    {
      "cell_type": "code",
      "metadata": {
        "id": "fCW7Ui0QcAaY",
        "colab_type": "code",
        "outputId": "200d530d-4ff4-403a-83d2-706d88d88a32",
        "colab": {
          "base_uri": "https://localhost:8080/",
          "height": 69
        }
      },
      "source": [
        "import nltk\n",
        "nltk.download('punkt')"
      ],
      "execution_count": 28,
      "outputs": [
        {
          "output_type": "stream",
          "text": [
            "[nltk_data] Downloading package punkt to /root/nltk_data...\n",
            "[nltk_data]   Package punkt is already up-to-date!\n"
          ],
          "name": "stdout"
        },
        {
          "output_type": "execute_result",
          "data": {
            "text/plain": [
              "True"
            ]
          },
          "metadata": {
            "tags": []
          },
          "execution_count": 28
        }
      ]
    },
    {
      "cell_type": "code",
      "metadata": {
        "id": "YEO5FbVPb66V",
        "colab_type": "code",
        "colab": {}
      },
      "source": [
        "from nltk import word_tokenize\n",
        "\n",
        "df['Short description'] = df['Short description'].map(lambda x: word_tokenize(x))\n",
        "df['Description'] = df['Description'].map(lambda x: word_tokenize(x))"
      ],
      "execution_count": 0,
      "outputs": []
    },
    {
      "cell_type": "code",
      "metadata": {
        "id": "Z4MSGRq9b83R",
        "colab_type": "code",
        "outputId": "eb69968f-4b3d-4b4c-eb2b-8a5ec33cf603",
        "colab": {
          "base_uri": "https://localhost:8080/",
          "height": 202
        }
      },
      "source": [
        "df.head()"
      ],
      "execution_count": 30,
      "outputs": [
        {
          "output_type": "execute_result",
          "data": {
            "text/html": [
              "<div>\n",
              "<style scoped>\n",
              "    .dataframe tbody tr th:only-of-type {\n",
              "        vertical-align: middle;\n",
              "    }\n",
              "\n",
              "    .dataframe tbody tr th {\n",
              "        vertical-align: top;\n",
              "    }\n",
              "\n",
              "    .dataframe thead th {\n",
              "        text-align: right;\n",
              "    }\n",
              "</style>\n",
              "<table border=\"1\" class=\"dataframe\">\n",
              "  <thead>\n",
              "    <tr style=\"text-align: right;\">\n",
              "      <th></th>\n",
              "      <th>Short description</th>\n",
              "      <th>Description</th>\n",
              "      <th>Category</th>\n",
              "    </tr>\n",
              "  </thead>\n",
              "  <tbody>\n",
              "    <tr>\n",
              "      <th>1822</th>\n",
              "      <td>[erp, sid, password, reset]</td>\n",
              "      <td>[erp, sid, password, reset]</td>\n",
              "      <td>0</td>\n",
              "    </tr>\n",
              "    <tr>\n",
              "      <th>3922</th>\n",
              "      <td>[vpn, login, issue]</td>\n",
              "      <td>[vpn, login, issue, user, unable, tologin, to,...</td>\n",
              "      <td>0</td>\n",
              "    </tr>\n",
              "    <tr>\n",
              "      <th>4173</th>\n",
              "      <td>[erp, sid, account, locked]</td>\n",
              "      <td>[erp, sid, account, locked]</td>\n",
              "      <td>0</td>\n",
              "    </tr>\n",
              "    <tr>\n",
              "      <th>497</th>\n",
              "      <td>[backup, on, company, provided, mobile, phone]</td>\n",
              "      <td>[backup, on, company, provided, mobile, phone]</td>\n",
              "      <td>0</td>\n",
              "    </tr>\n",
              "    <tr>\n",
              "      <th>4734</th>\n",
              "      <td>[reset, the, password, for, mobaidfx, gviwlsrm...</td>\n",
              "      <td>[passwort, zurã¼cksetzen]</td>\n",
              "      <td>0</td>\n",
              "    </tr>\n",
              "  </tbody>\n",
              "</table>\n",
              "</div>"
            ],
            "text/plain": [
              "                                      Short description  ... Category\n",
              "1822                        [erp, sid, password, reset]  ...        0\n",
              "3922                                [vpn, login, issue]  ...        0\n",
              "4173                        [erp, sid, account, locked]  ...        0\n",
              "497      [backup, on, company, provided, mobile, phone]  ...        0\n",
              "4734  [reset, the, password, for, mobaidfx, gviwlsrm...  ...        0\n",
              "\n",
              "[5 rows x 3 columns]"
            ]
          },
          "metadata": {
            "tags": []
          },
          "execution_count": 30
        }
      ]
    },
    {
      "cell_type": "code",
      "metadata": {
        "id": "T8N0My4hcQyQ",
        "colab_type": "code",
        "outputId": "c752283b-69d5-4a0c-aa90-ad61f2d427d2",
        "colab": {
          "base_uri": "https://localhost:8080/",
          "height": 69
        }
      },
      "source": [
        "nltk.download('stopwords')"
      ],
      "execution_count": 31,
      "outputs": [
        {
          "output_type": "stream",
          "text": [
            "[nltk_data] Downloading package stopwords to /root/nltk_data...\n",
            "[nltk_data]   Package stopwords is already up-to-date!\n"
          ],
          "name": "stdout"
        },
        {
          "output_type": "execute_result",
          "data": {
            "text/plain": [
              "True"
            ]
          },
          "metadata": {
            "tags": []
          },
          "execution_count": 31
        }
      ]
    },
    {
      "cell_type": "code",
      "metadata": {
        "id": "uLWV26T8cLu1",
        "colab_type": "code",
        "colab": {}
      },
      "source": [
        "# filter out stop words\n",
        "\n",
        "from nltk.corpus import stopwords\n",
        "stop_words = set(stopwords.words('english'))\n",
        "df['Short description'] = df['Short description'].map(lambda x: [w for w in x if not w in stop_words])\n",
        "df['Description'] = df['Description'].map(lambda x: [w for w in x if not w in stop_words])"
      ],
      "execution_count": 0,
      "outputs": []
    },
    {
      "cell_type": "code",
      "metadata": {
        "id": "wHuLaOYucNg7",
        "colab_type": "code",
        "outputId": "e86c4ecc-ef4b-488d-c0f3-d8ae5a628ee3",
        "colab": {
          "base_uri": "https://localhost:8080/",
          "height": 202
        }
      },
      "source": [
        "df.head()"
      ],
      "execution_count": 33,
      "outputs": [
        {
          "output_type": "execute_result",
          "data": {
            "text/html": [
              "<div>\n",
              "<style scoped>\n",
              "    .dataframe tbody tr th:only-of-type {\n",
              "        vertical-align: middle;\n",
              "    }\n",
              "\n",
              "    .dataframe tbody tr th {\n",
              "        vertical-align: top;\n",
              "    }\n",
              "\n",
              "    .dataframe thead th {\n",
              "        text-align: right;\n",
              "    }\n",
              "</style>\n",
              "<table border=\"1\" class=\"dataframe\">\n",
              "  <thead>\n",
              "    <tr style=\"text-align: right;\">\n",
              "      <th></th>\n",
              "      <th>Short description</th>\n",
              "      <th>Description</th>\n",
              "      <th>Category</th>\n",
              "    </tr>\n",
              "  </thead>\n",
              "  <tbody>\n",
              "    <tr>\n",
              "      <th>1822</th>\n",
              "      <td>[erp, sid, password, reset]</td>\n",
              "      <td>[erp, sid, password, reset]</td>\n",
              "      <td>0</td>\n",
              "    </tr>\n",
              "    <tr>\n",
              "      <th>3922</th>\n",
              "      <td>[vpn, login, issue]</td>\n",
              "      <td>[vpn, login, issue, user, unable, tologin, vpn...</td>\n",
              "      <td>0</td>\n",
              "    </tr>\n",
              "    <tr>\n",
              "      <th>4173</th>\n",
              "      <td>[erp, sid, account, locked]</td>\n",
              "      <td>[erp, sid, account, locked]</td>\n",
              "      <td>0</td>\n",
              "    </tr>\n",
              "    <tr>\n",
              "      <th>497</th>\n",
              "      <td>[backup, company, provided, mobile, phone]</td>\n",
              "      <td>[backup, company, provided, mobile, phone]</td>\n",
              "      <td>0</td>\n",
              "    </tr>\n",
              "    <tr>\n",
              "      <th>4734</th>\n",
              "      <td>[reset, password, mobaidfx, gviwlsrm, erp, pro...</td>\n",
              "      <td>[passwort, zurã¼cksetzen]</td>\n",
              "      <td>0</td>\n",
              "    </tr>\n",
              "  </tbody>\n",
              "</table>\n",
              "</div>"
            ],
            "text/plain": [
              "                                      Short description  ... Category\n",
              "1822                        [erp, sid, password, reset]  ...        0\n",
              "3922                                [vpn, login, issue]  ...        0\n",
              "4173                        [erp, sid, account, locked]  ...        0\n",
              "497          [backup, company, provided, mobile, phone]  ...        0\n",
              "4734  [reset, password, mobaidfx, gviwlsrm, erp, pro...  ...        0\n",
              "\n",
              "[5 rows x 3 columns]"
            ]
          },
          "metadata": {
            "tags": []
          },
          "execution_count": 33
        }
      ]
    },
    {
      "cell_type": "code",
      "metadata": {
        "id": "TfQsx1M6cZVf",
        "colab_type": "code",
        "outputId": "49c99ce4-b379-4bc4-ab74-69f52ce81d2d",
        "colab": {
          "base_uri": "https://localhost:8080/",
          "height": 69
        }
      },
      "source": [
        "nltk.download('wordnet')"
      ],
      "execution_count": 34,
      "outputs": [
        {
          "output_type": "stream",
          "text": [
            "[nltk_data] Downloading package wordnet to /root/nltk_data...\n",
            "[nltk_data]   Package wordnet is already up-to-date!\n"
          ],
          "name": "stdout"
        },
        {
          "output_type": "execute_result",
          "data": {
            "text/plain": [
              "True"
            ]
          },
          "metadata": {
            "tags": []
          },
          "execution_count": 34
        }
      ]
    },
    {
      "cell_type": "code",
      "metadata": {
        "id": "kLmxH7OCcUEv",
        "colab_type": "code",
        "colab": {}
      },
      "source": [
        "# Word Lemmatization\n",
        "\n",
        "from nltk.stem import WordNetLemmatizer\n",
        "lem = WordNetLemmatizer()\n",
        "df['Short description'] = df['Short description'].map(lambda x: [lem.lemmatize(word,\"v\") for word in x])\n",
        "df['Description'] = df['Description'].map(lambda x: [lem.lemmatize(word,\"v\") for word in x])"
      ],
      "execution_count": 0,
      "outputs": []
    },
    {
      "cell_type": "code",
      "metadata": {
        "id": "PUaC20UvcWgG",
        "colab_type": "code",
        "outputId": "3e94f441-4b94-41b5-9bd5-52fab42f86e0",
        "colab": {
          "base_uri": "https://localhost:8080/",
          "height": 202
        }
      },
      "source": [
        "df.head()"
      ],
      "execution_count": 36,
      "outputs": [
        {
          "output_type": "execute_result",
          "data": {
            "text/html": [
              "<div>\n",
              "<style scoped>\n",
              "    .dataframe tbody tr th:only-of-type {\n",
              "        vertical-align: middle;\n",
              "    }\n",
              "\n",
              "    .dataframe tbody tr th {\n",
              "        vertical-align: top;\n",
              "    }\n",
              "\n",
              "    .dataframe thead th {\n",
              "        text-align: right;\n",
              "    }\n",
              "</style>\n",
              "<table border=\"1\" class=\"dataframe\">\n",
              "  <thead>\n",
              "    <tr style=\"text-align: right;\">\n",
              "      <th></th>\n",
              "      <th>Short description</th>\n",
              "      <th>Description</th>\n",
              "      <th>Category</th>\n",
              "    </tr>\n",
              "  </thead>\n",
              "  <tbody>\n",
              "    <tr>\n",
              "      <th>1822</th>\n",
              "      <td>[erp, sid, password, reset]</td>\n",
              "      <td>[erp, sid, password, reset]</td>\n",
              "      <td>0</td>\n",
              "    </tr>\n",
              "    <tr>\n",
              "      <th>3922</th>\n",
              "      <td>[vpn, login, issue]</td>\n",
              "      <td>[vpn, login, issue, user, unable, tologin, vpn...</td>\n",
              "      <td>0</td>\n",
              "    </tr>\n",
              "    <tr>\n",
              "      <th>4173</th>\n",
              "      <td>[erp, sid, account, lock]</td>\n",
              "      <td>[erp, sid, account, lock]</td>\n",
              "      <td>0</td>\n",
              "    </tr>\n",
              "    <tr>\n",
              "      <th>497</th>\n",
              "      <td>[backup, company, provide, mobile, phone]</td>\n",
              "      <td>[backup, company, provide, mobile, phone]</td>\n",
              "      <td>0</td>\n",
              "    </tr>\n",
              "    <tr>\n",
              "      <th>4734</th>\n",
              "      <td>[reset, password, mobaidfx, gviwlsrm, erp, pro...</td>\n",
              "      <td>[passwort, zurã¼cksetzen]</td>\n",
              "      <td>0</td>\n",
              "    </tr>\n",
              "  </tbody>\n",
              "</table>\n",
              "</div>"
            ],
            "text/plain": [
              "                                      Short description  ... Category\n",
              "1822                        [erp, sid, password, reset]  ...        0\n",
              "3922                                [vpn, login, issue]  ...        0\n",
              "4173                          [erp, sid, account, lock]  ...        0\n",
              "497           [backup, company, provide, mobile, phone]  ...        0\n",
              "4734  [reset, password, mobaidfx, gviwlsrm, erp, pro...  ...        0\n",
              "\n",
              "[5 rows x 3 columns]"
            ]
          },
          "metadata": {
            "tags": []
          },
          "execution_count": 36
        }
      ]
    },
    {
      "cell_type": "code",
      "metadata": {
        "id": "xKFtJB0MceWX",
        "colab_type": "code",
        "colab": {}
      },
      "source": [
        "from wordcloud import WordCloud\n",
        "\n",
        "val = str(df.Description)\n",
        "\n",
        "wordcloud = WordCloud(width = 800, height = 800, \n",
        "                background_color ='white', \n",
        "                stopwords = stop_words, \n",
        "                min_font_size = 10).generate(val)"
      ],
      "execution_count": 0,
      "outputs": []
    },
    {
      "cell_type": "code",
      "metadata": {
        "id": "UnGXcFxMcgxp",
        "colab_type": "code",
        "outputId": "dc8ffb36-0742-49b2-bad0-62ee8c3c319b",
        "colab": {
          "base_uri": "https://localhost:8080/",
          "height": 607
        }
      },
      "source": [
        "# plot the WordCloud image       \n",
        "\n",
        "plt.figure(figsize = (8, 8), facecolor = None) \n",
        "plt.imshow(wordcloud) \n",
        "plt.axis(\"off\") \n",
        "plt.tight_layout(pad = 0) \n",
        "  \n",
        "plt.show() "
      ],
      "execution_count": 38,
      "outputs": [
        {
          "output_type": "display_data",
          "data": {
            "image/png": "[encoded data removed]",
            "text/plain": [
              "<Figure size 576x576 with 1 Axes>"
            ]
          },
          "metadata": {
            "tags": [],
            "needs_background": "light"
          }
        }
      ]
    },
    {
      "cell_type": "code",
      "metadata": {
        "id": "7oxHw2zwcjQ2",
        "colab_type": "code",
        "outputId": "f226a46e-deec-403c-ea5c-c3b5d77ea0ff",
        "colab": {
          "base_uri": "https://localhost:8080/",
          "height": 202
        }
      },
      "source": [
        "df.head()"
      ],
      "execution_count": 39,
      "outputs": [
        {
          "output_type": "execute_result",
          "data": {
            "text/html": [
              "<div>\n",
              "<style scoped>\n",
              "    .dataframe tbody tr th:only-of-type {\n",
              "        vertical-align: middle;\n",
              "    }\n",
              "\n",
              "    .dataframe tbody tr th {\n",
              "        vertical-align: top;\n",
              "    }\n",
              "\n",
              "    .dataframe thead th {\n",
              "        text-align: right;\n",
              "    }\n",
              "</style>\n",
              "<table border=\"1\" class=\"dataframe\">\n",
              "  <thead>\n",
              "    <tr style=\"text-align: right;\">\n",
              "      <th></th>\n",
              "      <th>Short description</th>\n",
              "      <th>Description</th>\n",
              "      <th>Category</th>\n",
              "    </tr>\n",
              "  </thead>\n",
              "  <tbody>\n",
              "    <tr>\n",
              "      <th>1822</th>\n",
              "      <td>[erp, sid, password, reset]</td>\n",
              "      <td>[erp, sid, password, reset]</td>\n",
              "      <td>0</td>\n",
              "    </tr>\n",
              "    <tr>\n",
              "      <th>3922</th>\n",
              "      <td>[vpn, login, issue]</td>\n",
              "      <td>[vpn, login, issue, user, unable, tologin, vpn...</td>\n",
              "      <td>0</td>\n",
              "    </tr>\n",
              "    <tr>\n",
              "      <th>4173</th>\n",
              "      <td>[erp, sid, account, lock]</td>\n",
              "      <td>[erp, sid, account, lock]</td>\n",
              "      <td>0</td>\n",
              "    </tr>\n",
              "    <tr>\n",
              "      <th>497</th>\n",
              "      <td>[backup, company, provide, mobile, phone]</td>\n",
              "      <td>[backup, company, provide, mobile, phone]</td>\n",
              "      <td>0</td>\n",
              "    </tr>\n",
              "    <tr>\n",
              "      <th>4734</th>\n",
              "      <td>[reset, password, mobaidfx, gviwlsrm, erp, pro...</td>\n",
              "      <td>[passwort, zurã¼cksetzen]</td>\n",
              "      <td>0</td>\n",
              "    </tr>\n",
              "  </tbody>\n",
              "</table>\n",
              "</div>"
            ],
            "text/plain": [
              "                                      Short description  ... Category\n",
              "1822                        [erp, sid, password, reset]  ...        0\n",
              "3922                                [vpn, login, issue]  ...        0\n",
              "4173                          [erp, sid, account, lock]  ...        0\n",
              "497           [backup, company, provide, mobile, phone]  ...        0\n",
              "4734  [reset, password, mobaidfx, gviwlsrm, erp, pro...  ...        0\n",
              "\n",
              "[5 rows x 3 columns]"
            ]
          },
          "metadata": {
            "tags": []
          },
          "execution_count": 39
        }
      ]
    },
    {
      "cell_type": "code",
      "metadata": {
        "id": "_zoT7tBscnx_",
        "colab_type": "code",
        "colab": {}
      },
      "source": [
        "# Turn lists back to string\n",
        "\n",
        "df['Short description'] = df['Short description'].map(lambda x: ' '.join(x))\n",
        "df['Description'] = df['Description'].map(lambda x: ' '.join(x))"
      ],
      "execution_count": 0,
      "outputs": []
    },
    {
      "cell_type": "code",
      "metadata": {
        "id": "O8wj3Q7Bcpf2",
        "colab_type": "code",
        "colab": {}
      },
      "source": [
        "# Concatenate short description and description columns\n",
        "\n",
        "df['Description'] = df['Short description'].str.cat(df['Description'], sep =\" \")"
      ],
      "execution_count": 0,
      "outputs": []
    },
    {
      "cell_type": "code",
      "metadata": {
        "id": "UHLiNWiGcrRg",
        "colab_type": "code",
        "colab": {}
      },
      "source": [
        "df = df.drop(['Short description'], axis=1)"
      ],
      "execution_count": 0,
      "outputs": []
    },
    {
      "cell_type": "code",
      "metadata": {
        "id": "LUFYPbPzctFr",
        "colab_type": "code",
        "colab": {}
      },
      "source": [
        "# Find length of the words in description\n",
        "\n",
        "df['Desc_len'] = df['Description'].apply(lambda x: len(x.split(\" \")))"
      ],
      "execution_count": 0,
      "outputs": []
    },
    {
      "cell_type": "code",
      "metadata": {
        "id": "oYc_d79scuYn",
        "colab_type": "code",
        "outputId": "0452fecf-9ee7-4dfb-be59-a7c89c55c185",
        "colab": {
          "base_uri": "https://localhost:8080/",
          "height": 202
        }
      },
      "source": [
        "df.head()"
      ],
      "execution_count": 44,
      "outputs": [
        {
          "output_type": "execute_result",
          "data": {
            "text/html": [
              "<div>\n",
              "<style scoped>\n",
              "    .dataframe tbody tr th:only-of-type {\n",
              "        vertical-align: middle;\n",
              "    }\n",
              "\n",
              "    .dataframe tbody tr th {\n",
              "        vertical-align: top;\n",
              "    }\n",
              "\n",
              "    .dataframe thead th {\n",
              "        text-align: right;\n",
              "    }\n",
              "</style>\n",
              "<table border=\"1\" class=\"dataframe\">\n",
              "  <thead>\n",
              "    <tr style=\"text-align: right;\">\n",
              "      <th></th>\n",
              "      <th>Description</th>\n",
              "      <th>Category</th>\n",
              "      <th>Desc_len</th>\n",
              "    </tr>\n",
              "  </thead>\n",
              "  <tbody>\n",
              "    <tr>\n",
              "      <th>1822</th>\n",
              "      <td>erp sid password reset erp sid password reset</td>\n",
              "      <td>0</td>\n",
              "      <td>8</td>\n",
              "    </tr>\n",
              "    <tr>\n",
              "      <th>3922</th>\n",
              "      <td>vpn login issue vpn login issue user unable to...</td>\n",
              "      <td>0</td>\n",
              "      <td>27</td>\n",
              "    </tr>\n",
              "    <tr>\n",
              "      <th>4173</th>\n",
              "      <td>erp sid account lock erp sid account lock</td>\n",
              "      <td>0</td>\n",
              "      <td>8</td>\n",
              "    </tr>\n",
              "    <tr>\n",
              "      <th>497</th>\n",
              "      <td>backup company provide mobile phone backup com...</td>\n",
              "      <td>0</td>\n",
              "      <td>10</td>\n",
              "    </tr>\n",
              "    <tr>\n",
              "      <th>4734</th>\n",
              "      <td>reset password mobaidfx gviwlsrm erp produktio...</td>\n",
              "      <td>0</td>\n",
              "      <td>9</td>\n",
              "    </tr>\n",
              "  </tbody>\n",
              "</table>\n",
              "</div>"
            ],
            "text/plain": [
              "                                            Description  Category  Desc_len\n",
              "1822      erp sid password reset erp sid password reset         0         8\n",
              "3922  vpn login issue vpn login issue user unable to...         0        27\n",
              "4173          erp sid account lock erp sid account lock         0         8\n",
              "497   backup company provide mobile phone backup com...         0        10\n",
              "4734  reset password mobaidfx gviwlsrm erp produktio...         0         9"
            ]
          },
          "metadata": {
            "tags": []
          },
          "execution_count": 44
        }
      ]
    },
    {
      "cell_type": "code",
      "metadata": {
        "id": "JFMxd7RGcvih",
        "colab_type": "code",
        "outputId": "02cca2a9-f424-4789-a039-5b6e3aa94e6d",
        "colab": {
          "base_uri": "https://localhost:8080/",
          "height": 35
        }
      },
      "source": [
        "# Find maxlen \n",
        "\n",
        "df['Desc_len'].max()"
      ],
      "execution_count": 45,
      "outputs": [
        {
          "output_type": "execute_result",
          "data": {
            "text/plain": [
              "899"
            ]
          },
          "metadata": {
            "tags": []
          },
          "execution_count": 45
        }
      ]
    },
    {
      "cell_type": "code",
      "metadata": {
        "id": "wMt7IdZgcxa4",
        "colab_type": "code",
        "outputId": "2dc4dc0f-72d1-4fcd-a2aa-d4f5a00ace86",
        "colab": {
          "base_uri": "https://localhost:8080/",
          "height": 35
        }
      },
      "source": [
        "import nltk\n",
        "from nltk.tokenize import word_tokenize\n",
        "\n",
        "desc = df.Description.str.cat(sep=' ')\n",
        "\n",
        "tokens = word_tokenize(desc)\n",
        "\n",
        "vocabulary = set(tokens)\n",
        "print(len(vocabulary))"
      ],
      "execution_count": 46,
      "outputs": [
        {
          "output_type": "stream",
          "text": [
            "12784\n"
          ],
          "name": "stdout"
        }
      ]
    },
    {
      "cell_type": "code",
      "metadata": {
        "id": "-XXr2lPvc01b",
        "colab_type": "code",
        "outputId": "932a59c8-e259-4b8e-e463-71eac290e5f5",
        "colab": {
          "base_uri": "https://localhost:8080/",
          "height": 334
        }
      },
      "source": [
        "from nltk.probability import FreqDist\n",
        "\n",
        "frequency_dist = nltk.FreqDist(tokens)\n",
        "#sorted(frequency_dist,key=frequency_dist.__getitem__, reverse=True)[0:50]\n",
        "\n",
        "frequency_dist.most_common(5)\n",
        "\n",
        "import matplotlib.pyplot as plt\n",
        "frequency_dist.plot(30,cumulative=False)\n",
        "plt.show()"
      ],
      "execution_count": 47,
      "outputs": [
        {
          "output_type": "display_data",
          "data": {
            "image/png": "[encoded data removed]",
            "text/plain": [
              "<Figure size 432x288 with 1 Axes>"
            ]
          },
          "metadata": {
            "tags": [],
            "needs_background": "light"
          }
        }
      ]
    },
    {
      "cell_type": "code",
      "metadata": {
        "id": "qSuRqkHxc372",
        "colab_type": "code",
        "colab": {}
      },
      "source": [
        "from tensorflow.keras.preprocessing.text import Tokenizer\n",
        "from tensorflow.keras.preprocessing.sequence import pad_sequences\n",
        "\n",
        "for idx,row in df.iterrows():\n",
        "    row[0] = row[0].replace('rt',' ')\n",
        "    \n",
        "max_features = 13000\n",
        "maxlen = 900\n",
        "embedding_size = 200\n",
        "tokenizer = Tokenizer(num_words=max_features, split=' ')\n",
        "tokenizer.fit_on_texts(df['Description'].values)"
      ],
      "execution_count": 0,
      "outputs": []
    },
    {
      "cell_type": "markdown",
      "metadata": {
        "id": "EAom7xJ98Hnd",
        "colab_type": "text"
      },
      "source": [
        "### Define X and Y"
      ]
    },
    {
      "cell_type": "code",
      "metadata": {
        "id": "LTuhL7AjeMd6",
        "colab_type": "code",
        "outputId": "f652a70e-2dac-4af2-a841-2fb463d66762",
        "colab": {
          "base_uri": "https://localhost:8080/",
          "height": 52
        }
      },
      "source": [
        "X = tokenizer.texts_to_sequences(df['Description'])\n",
        "X = pad_sequences(X, maxlen = maxlen)\n",
        "y = pd.get_dummies(df['Category']).values\n",
        "\n",
        "print('Shape of data:', X.shape)\n",
        "print('Shape of label:', y.shape)"
      ],
      "execution_count": 49,
      "outputs": [
        {
          "output_type": "stream",
          "text": [
            "Shape of data: (48914, 900)\n",
            "Shape of label: (48914, 74)\n"
          ],
          "name": "stdout"
        }
      ]
    },
    {
      "cell_type": "code",
      "metadata": {
        "id": "QUDuxoMOeQ7E",
        "colab_type": "code",
        "colab": {}
      },
      "source": [
        "# Splitting into training and test set\n",
        "from sklearn.model_selection import train_test_split\n",
        "\n",
        "X_train, X_test, Y_train, Y_test = train_test_split(X,y, random_state = 42)"
      ],
      "execution_count": 0,
      "outputs": []
    },
    {
      "cell_type": "markdown",
      "metadata": {
        "id": "8dB8UX3S8OXf",
        "colab_type": "text"
      },
      "source": [
        "### Word Embeddings using Glove Embedding file\n"
      ]
    },
    {
      "cell_type": "code",
      "metadata": {
        "id": "4lXFAAHSeZl9",
        "colab_type": "code",
        "colab": {}
      },
      "source": [
        "EMBEDDING_FILE = '/mnt/drive/My Drive/Colab Notebooks/Data/glove.6B.200d.txt'\n",
        "\n",
        "embeddings = {}\n",
        "for o in open(EMBEDDING_FILE, encoding=\"utf8\"):\n",
        "    word = o.split(\" \")[0]\n",
        "    # print(word)\n",
        "    embd = o.split(\" \")[1:]\n",
        "    embd = np.asarray(embd, dtype='float32')\n",
        "    # print(embd)\n",
        "    embeddings[word] = embd"
      ],
      "execution_count": 0,
      "outputs": []
    },
    {
      "cell_type": "markdown",
      "metadata": {
        "id": "5PS8BUYW8RRu",
        "colab_type": "text"
      },
      "source": [
        "### Weight Matrix"
      ]
    },
    {
      "cell_type": "code",
      "metadata": {
        "id": "KlkuPu9Neb7X",
        "colab_type": "code",
        "outputId": "19ddfa2c-f27d-41e7-cc4d-a76d0dd050c0",
        "colab": {
          "base_uri": "https://localhost:8080/",
          "height": 35
        }
      },
      "source": [
        "embedding_matrix = np.zeros((max_features, 200))\n",
        "\n",
        "for word, i in tokenizer.word_index.items():\n",
        "  if i >= max_features:\n",
        "        continue\n",
        "  embedding_vector = embeddings.get(word)\n",
        "  if embedding_vector is not None:\n",
        "    embedding_matrix[i] = embedding_vector\n",
        "\n",
        "len(embeddings.values())"
      ],
      "execution_count": 52,
      "outputs": [
        {
          "output_type": "execute_result",
          "data": {
            "text/plain": [
              "400000"
            ]
          },
          "metadata": {
            "tags": []
          },
          "execution_count": 52
        }
      ]
    },
    {
      "cell_type": "markdown",
      "metadata": {
        "id": "Gkz3QE3C8UBh",
        "colab_type": "text"
      },
      "source": [
        "### Model Building"
      ]
    },
    {
      "cell_type": "code",
      "metadata": {
        "id": "Jw6LtGZqe7jD",
        "colab_type": "code",
        "outputId": "ad8edee1-af15-43e1-85a5-10ed2457a5e0",
        "colab": {
          "base_uri": "https://localhost:8080/",
          "height": 436
        }
      },
      "source": [
        "from tensorflow.keras.layers import Dense, Input, LSTM, Embedding, Dropout, Activation, Flatten, Bidirectional, GlobalMaxPool1D, SpatialDropout1D\n",
        "from tensorflow.keras.models import Model, Sequential\n",
        "from keras.models import model_from_json\n",
        "import os\n",
        "\n",
        "lstm_out = 128\n",
        "\n",
        "# Define LSTM Model\n",
        "\n",
        "model = Sequential()\n",
        "model.add(Embedding(max_features, embedding_size, weights = [embedding_matrix]))\n",
        "model.add(SpatialDropout1D(0.2))\n",
        "model.add(Bidirectional(LSTM(lstm_out, dropout=0.2, recurrent_dropout=0.2, return_sequences = True)))\n",
        "model.add(GlobalMaxPool1D())\n",
        "model.add(Dense(74, activation='softmax'))\n",
        "model.compile(loss='categorical_crossentropy', optimizer='adam', metrics=['accuracy'])\n",
        "print(model.summary())"
      ],
      "execution_count": 53,
      "outputs": [
        {
          "output_type": "stream",
          "text": [
            "Using TensorFlow backend.\n"
          ],
          "name": "stderr"
        },
        {
          "output_type": "stream",
          "text": [
            "WARNING:tensorflow:Layer lstm will not use cuDNN kernel since it doesn't meet the cuDNN kernel criteria. It will use generic GPU kernel as fallback when running on GPU\n",
            "WARNING:tensorflow:Layer lstm will not use cuDNN kernel since it doesn't meet the cuDNN kernel criteria. It will use generic GPU kernel as fallback when running on GPU\n",
            "WARNING:tensorflow:Layer lstm will not use cuDNN kernel since it doesn't meet the cuDNN kernel criteria. It will use generic GPU kernel as fallback when running on GPU\n",
            "Model: \"sequential\"\n",
            "_________________________________________________________________\n",
            "Layer (type)                 Output Shape              Param #   \n",
            "=================================================================\n",
            "embedding (Embedding)        (None, None, 200)         2600000   \n",
            "_________________________________________________________________\n",
            "spatial_dropout1d (SpatialDr (None, None, 200)         0         \n",
            "_________________________________________________________________\n",
            "bidirectional (Bidirectional (None, None, 256)         336896    \n",
            "_________________________________________________________________\n",
            "global_max_pooling1d (Global (None, 256)               0         \n",
            "_________________________________________________________________\n",
            "dense (Dense)                (None, 74)                19018     \n",
            "=================================================================\n",
            "Total params: 2,955,914\n",
            "Trainable params: 2,955,914\n",
            "Non-trainable params: 0\n",
            "_________________________________________________________________\n",
            "None\n"
          ],
          "name": "stdout"
        }
      ]
    },
    {
      "cell_type": "code",
      "metadata": {
        "id": "G8GZaF4Ce_2l",
        "colab_type": "code",
        "outputId": "fa24e25f-5e56-4d6a-d844-3c38423e57f0",
        "colab": {
          "base_uri": "https://localhost:8080/",
          "height": 191
        }
      },
      "source": [
        "# Training LSTM Model\n",
        "\n",
        "from keras.callbacks import ModelCheckpoint\n",
        "\n",
        "epochs = 5\n",
        "batch_size = 64\n",
        "\n",
        "filepath=\"weights-simple.hdf5\"\n",
        "checkpointer = ModelCheckpoint(filepath, monitor='val_accuracy', verbose=1, save_best_only=True, mode='max')\n",
        "history = model.fit(X_train, Y_train, epochs=epochs, batch_size=batch_size,validation_split=0.1)"
      ],
      "execution_count": 54,
      "outputs": [
        {
          "output_type": "stream",
          "text": [
            "Epoch 1/5\n",
            "516/516 [==============================] - 5147s 10s/step - loss: 1.7679 - accuracy: 0.6046 - val_loss: 0.6921 - val_accuracy: 0.8264\n",
            "Epoch 2/5\n",
            "516/516 [==============================] - 5174s 10s/step - loss: 0.5581 - accuracy: 0.8615 - val_loss: 0.3548 - val_accuracy: 0.8983\n",
            "Epoch 3/5\n",
            "516/516 [==============================] - 4958s 10s/step - loss: 0.3210 - accuracy: 0.9153 - val_loss: 0.2491 - val_accuracy: 0.9324\n",
            "Epoch 4/5\n",
            "516/516 [==============================] - 4978s 10s/step - loss: 0.2355 - accuracy: 0.9337 - val_loss: 0.2121 - val_accuracy: 0.9384\n",
            "Epoch 5/5\n",
            "516/516 [==============================] - 4974s 10s/step - loss: 0.1889 - accuracy: 0.9443 - val_loss: 0.1801 - val_accuracy: 0.9479\n"
          ],
          "name": "stdout"
        }
      ]
    },
    {
      "cell_type": "markdown",
      "metadata": {
        "id": "j-qhuGKV8YGu",
        "colab_type": "text"
      },
      "source": [
        "### Training V/S Validation set accuracy plot"
      ]
    },
    {
      "cell_type": "code",
      "metadata": {
        "id": "NL35pZb3fE9N",
        "colab_type": "code",
        "colab": {
          "base_uri": "https://localhost:8080/",
          "height": 279
        },
        "outputId": "fcdf6a1b-41b9-4cbf-e2cf-fe0e6a84d268"
      },
      "source": [
        "df_1 = pd.DataFrame({'epochs':history.epoch, 'accuracy': history.history['accuracy'], 'validation_accuracy': history.history['val_accuracy']})\n",
        "g = sns.pointplot(x=\"epochs\", y=\"accuracy\", data=df_1, fit_reg=False)\n",
        "g = sns.pointplot(x=\"epochs\", y=\"validation_accuracy\", data=df_1, fit_reg=False, color='green')"
      ],
      "execution_count": 55,
      "outputs": [
        {
          "output_type": "display_data",
          "data": {
            "image/png": "[encoded data removed]",
            "text/plain": [
              "<Figure size 432x288 with 1 Axes>"
            ]
          },
          "metadata": {
            "tags": [],
            "needs_background": "light"
          }
        }
      ]
    },
    {
      "cell_type": "code",
      "metadata": {
        "id": "dTf78pzTY2KO",
        "colab_type": "code",
        "colab": {
          "base_uri": "https://localhost:8080/",
          "height": 243
        },
        "outputId": "27bbc41c-6054-4207-a0c5-8af88bc94a28"
      },
      "source": [
        "predicted = model.predict(X_test)\n",
        "predicted"
      ],
      "execution_count": 56,
      "outputs": [
        {
          "output_type": "execute_result",
          "data": {
            "text/plain": [
              "array([[1.48579862e-03, 7.80062619e-05, 1.00110279e-04, ...,\n",
              "        2.53444864e-06, 3.25477624e-04, 3.85618419e-04],\n",
              "       [5.09946585e-06, 9.32989686e-09, 4.19353019e-04, ...,\n",
              "        6.91892499e-09, 2.29008947e-06, 7.50170439e-05],\n",
              "       [2.72421225e-04, 1.22822641e-08, 1.44981415e-04, ...,\n",
              "        6.47186653e-07, 6.37274252e-06, 5.89090996e-05],\n",
              "       ...,\n",
              "       [1.94000622e-05, 4.58790783e-09, 4.75417164e-06, ...,\n",
              "        6.38995488e-08, 1.80274892e-05, 1.40628708e-05],\n",
              "       [5.25868854e-05, 1.17080822e-06, 5.79186562e-05, ...,\n",
              "        6.94861413e-09, 2.11900478e-04, 5.42308735e-05],\n",
              "       [2.41991020e-05, 1.50022257e-04, 2.43107844e-02, ...,\n",
              "        1.60036606e-07, 1.01537205e-01, 2.08858564e-01]], dtype=float32)"
            ]
          },
          "metadata": {
            "tags": []
          },
          "execution_count": 56
        }
      ]
    },
    {
      "cell_type": "code",
      "metadata": {
        "id": "YYRLmQbNY4GI",
        "colab_type": "code",
        "colab": {}
      },
      "source": [
        "predicted = np.argmax(predicted, axis=1)"
      ],
      "execution_count": 0,
      "outputs": []
    },
    {
      "cell_type": "code",
      "metadata": {
        "id": "qunBTCwmY53C",
        "colab_type": "code",
        "colab": {}
      },
      "source": [
        "Y_1 = np.argmax(Y_test, axis=1)"
      ],
      "execution_count": 0,
      "outputs": []
    },
    {
      "cell_type": "markdown",
      "metadata": {
        "id": "0flbYEby8htI",
        "colab_type": "text"
      },
      "source": [
        "### Classification report"
      ]
    },
    {
      "cell_type": "code",
      "metadata": {
        "id": "87WsBTlWY7gJ",
        "colab_type": "code",
        "colab": {
          "base_uri": "https://localhost:8080/",
          "height": 1000
        },
        "outputId": "8971893a-eed4-494d-aac9-2f47a37a29bd"
      },
      "source": [
        "from sklearn.metrics import classification_report\n",
        "print(classification_report(Y_1, predicted))"
      ],
      "execution_count": 59,
      "outputs": [
        {
          "output_type": "stream",
          "text": [
            "              precision    recall  f1-score   support\n",
            "\n",
            "           0       0.79      0.47      0.59       172\n",
            "           1       0.85      1.00      0.92       162\n",
            "           2       0.96      0.83      0.89       178\n",
            "           3       1.00      1.00      1.00       179\n",
            "           4       0.97      0.75      0.85       171\n",
            "           5       0.94      0.94      0.94       178\n",
            "           6       0.94      0.99      0.96       147\n",
            "           7       0.99      1.00      0.99       152\n",
            "           8       0.99      1.00      1.00       173\n",
            "           9       1.00      1.00      1.00       152\n",
            "          10       0.93      0.92      0.92       161\n",
            "          11       0.75      0.91      0.82       170\n",
            "          12       0.96      0.88      0.92       156\n",
            "          13       1.00      1.00      1.00       147\n",
            "          14       0.99      1.00      0.99       151\n",
            "          15       0.99      1.00      1.00       176\n",
            "          16       0.98      1.00      0.99       165\n",
            "          17       0.96      0.97      0.97       160\n",
            "          18       0.95      0.98      0.96       181\n",
            "          19       0.97      1.00      0.98       157\n",
            "          20       0.98      1.00      0.99       154\n",
            "          21       0.99      1.00      1.00       153\n",
            "          22       0.98      0.97      0.97       149\n",
            "          23       0.93      0.81      0.87       168\n",
            "          24       0.98      1.00      0.99       169\n",
            "          25       0.97      0.96      0.97       158\n",
            "          26       1.00      1.00      1.00       183\n",
            "          27       0.96      1.00      0.98       174\n",
            "          28       0.98      0.99      0.98       172\n",
            "          29       1.00      1.00      1.00       169\n",
            "          30       0.97      1.00      0.98       155\n",
            "          31       0.99      1.00      1.00       157\n",
            "          32       1.00      1.00      1.00       174\n",
            "          33       0.98      1.00      0.99       163\n",
            "          34       0.96      0.89      0.92       172\n",
            "          35       0.97      1.00      0.98       163\n",
            "          36       0.98      1.00      0.99       162\n",
            "          37       0.99      1.00      0.99       147\n",
            "          38       1.00      1.00      1.00       170\n",
            "          39       1.00      0.93      0.97       178\n",
            "          40       0.96      0.84      0.90       179\n",
            "          41       1.00      1.00      1.00       172\n",
            "          42       0.93      0.74      0.82       163\n",
            "          43       1.00      1.00      1.00       173\n",
            "          44       1.00      1.00      1.00       164\n",
            "          45       0.88      0.59      0.70       184\n",
            "          46       0.98      1.00      0.99       185\n",
            "          47       1.00      1.00      1.00       163\n",
            "          48       1.00      1.00      1.00       157\n",
            "          49       0.97      1.00      0.98       161\n",
            "          50       1.00      1.00      1.00       166\n",
            "          51       0.99      1.00      1.00       166\n",
            "          52       0.99      1.00      1.00       149\n",
            "          53       0.32      1.00      0.49       156\n",
            "          54       1.00      1.00      1.00       163\n",
            "          55       1.00      1.00      1.00       165\n",
            "          56       0.91      0.60      0.73       139\n",
            "          57       1.00      0.76      0.87       157\n",
            "          58       1.00      1.00      1.00       180\n",
            "          59       0.98      1.00      0.99       145\n",
            "          60       1.00      1.00      1.00       161\n",
            "          61       1.00      1.00      1.00       163\n",
            "          62       0.98      1.00      0.99       171\n",
            "          63       1.00      1.00      1.00       174\n",
            "          64       1.00      1.00      1.00       180\n",
            "          65       1.00      1.00      1.00       172\n",
            "          66       1.00      1.00      1.00       175\n",
            "          67       0.98      1.00      0.99       176\n",
            "          68       1.00      1.00      1.00       173\n",
            "          69       1.00      1.00      1.00       164\n",
            "          70       0.95      1.00      0.97       166\n",
            "          71       1.00      1.00      1.00       151\n",
            "          72       0.74      0.52      0.61       172\n",
            "          73       0.54      0.41      0.46       166\n",
            "\n",
            "    accuracy                           0.94     12229\n",
            "   macro avg       0.95      0.94      0.94     12229\n",
            "weighted avg       0.95      0.94      0.94     12229\n",
            "\n"
          ],
          "name": "stdout"
        }
      ]
    },
    {
      "cell_type": "code",
      "metadata": {
        "id": "kup_NePx_fSt",
        "colab_type": "code",
        "colab": {}
      },
      "source": [
        ""
      ],
      "execution_count": 0,
      "outputs": []
    }
  ]
}